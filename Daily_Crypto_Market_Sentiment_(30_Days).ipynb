{
  "nbformat": 4,
  "nbformat_minor": 0,
  "metadata": {
    "colab": {
      "provenance": [],
      "authorship_tag": "ABX9TyPKOWUj0IlLnXQGg4Np4g5e",
      "include_colab_link": true
    },
    "kernelspec": {
      "name": "python3",
      "display_name": "Python 3"
    },
    "language_info": {
      "name": "python"
    }
  },
  "cells": [
    {
      "cell_type": "markdown",
      "metadata": {
        "id": "view-in-github",
        "colab_type": "text"
      },
      "source": [
        "<a href=\"https://colab.research.google.com/github/kushsengar/Machine-Learning/blob/main/Daily_Crypto_Market_Sentiment_(30_Days).ipynb\" target=\"_parent\"><img src=\"https://colab.research.google.com/assets/colab-badge.svg\" alt=\"Open In Colab\"/></a>"
      ]
    },
    {
      "cell_type": "code",
      "execution_count": 1,
      "metadata": {
        "id": "DfGmQHdC2dSc"
      },
      "outputs": [],
      "source": [
        "import pandas as pd\n",
        "import requests"
      ]
    },
    {
      "cell_type": "code",
      "source": [
        "from datetime import datetime\n",
        "\n",
        "# API endpoint for sentiment analysis\n",
        "url = \"https://crypto-news51.p.rapidapi.com/api/v1/crypto/sentiment\"\n",
        "\n",
        "# headers (replace with your actual key if needed)\n",
        "headers = {\n",
        "    \"x-rapidapi-host\": \"crypto-news51.p.rapidapi.com\",\n",
        "    \"x-rapidapi-key\": \"598093183cmsh3ed4e2b9878f46bp13ee47jsn0cccf8f31a55\"\n",
        "}\n",
        "\n",
        "# query params - last 24 hours\n",
        "query = {\"interval\": \"24h\"}\n",
        "\n",
        "try:\n",
        "    response = requests.get(url, headers=headers, params=query)\n",
        "    data = response.json()\n",
        "\n",
        "    print(\"📊 Crypto Sentiment (Last 24h)\")\n",
        "    print(\"-\" * 40)\n",
        "\n",
        "    if \"sentiments\" in data:\n",
        "        sentiments = data[\"sentiments\"]\n",
        "\n",
        "        # Extract data\n",
        "        record = {\n",
        "            \"timestamp\": datetime.now().strftime(\"%Y-%m-%d %H:%M:%S\"),\n",
        "            \"positive\": sentiments.get(\"positive\", 0),\n",
        "            \"neutral\": sentiments.get(\"neutral\", 0),\n",
        "            \"negative\": sentiments.get(\"negative\", 0),\n",
        "            \"total_articles\": data.get(\"total_articles\", 0)\n",
        "        }\n",
        "\n",
        "        print(record)\n",
        "\n",
        "        # Save to CSV (append mode)\n",
        "        df = pd.DataFrame([record])\n",
        "        df.to_csv(\"crypto_sentiment_history.csv\", mode=\"a\", header=not pd.io.common.file_exists(\"crypto_sentiment_history.csv\"), index=False)\n",
        "\n",
        "        print(\"✅ Data saved to crypto_sentiment_history.csv\")\n",
        "\n",
        "    else:\n",
        "        print(\"Response:\", data)\n",
        "\n",
        "except Exception as e:\n",
        "    print(\"Error:\", e)\n"
      ],
      "metadata": {
        "colab": {
          "base_uri": "https://localhost:8080/"
        },
        "id": "lwvja0Be333f",
        "outputId": "b278b104-3cb8-47e2-c3d1-d62351b3ff04"
      },
      "execution_count": 3,
      "outputs": [
        {
          "output_type": "stream",
          "name": "stdout",
          "text": [
            "📊 Crypto Sentiment (Last 24h)\n",
            "----------------------------------------\n",
            "Response: {'interval': '24h', 'total': 3224, 'counts': {'positive': 922, 'neutral': 1614, 'negative': 688}, 'percentages': {'positive': 28.6, 'neutral': 50.06, 'negative': 21.34}}\n"
          ]
        }
      ]
    },
    {
      "cell_type": "code",
      "source": [
        "url = \"https://crypto-news51.p.rapidapi.com/api/v1/crypto/sentiment\"\n",
        "\n",
        "headers = {\n",
        "    \"x-rapidapi-host\": \"crypto-news51.p.rapidapi.com\",\n",
        "    \"x-rapidapi-key\": \"598093183cmsh3ed4e2b9878f46bp13ee47jsn0cccf8f31a55\"\n",
        "}\n",
        "\n",
        "response = requests.get(url, headers=headers)"
      ],
      "metadata": {
        "id": "tVr38pyO5K8p"
      },
      "execution_count": 4,
      "outputs": []
    },
    {
      "cell_type": "code",
      "source": [
        "response"
      ],
      "metadata": {
        "colab": {
          "base_uri": "https://localhost:8080/"
        },
        "id": "_4kMQ2NI5cd_",
        "outputId": "71940765-c813-438b-f1fe-0565b8783f5e"
      },
      "execution_count": 5,
      "outputs": [
        {
          "output_type": "execute_result",
          "data": {
            "text/plain": [
              "<Response [200]>"
            ]
          },
          "metadata": {},
          "execution_count": 5
        }
      ]
    },
    {
      "cell_type": "code",
      "source": [
        "response =  response.json()['counts']"
      ],
      "metadata": {
        "id": "cMOMnBEw5ew1"
      },
      "execution_count": 7,
      "outputs": []
    },
    {
      "cell_type": "code",
      "source": [
        "response"
      ],
      "metadata": {
        "colab": {
          "base_uri": "https://localhost:8080/"
        },
        "id": "s6BP1f7M5z6k",
        "outputId": "1ec09ce5-7970-43a8-a455-1eda703a5cf1"
      },
      "execution_count": 8,
      "outputs": [
        {
          "output_type": "execute_result",
          "data": {
            "text/plain": [
              "{'positive': 922, 'neutral': 1613, 'negative': 687}"
            ]
          },
          "metadata": {},
          "execution_count": 8
        }
      ]
    },
    {
      "cell_type": "code",
      "source": [
        "pd.DataFrame([response])"
      ],
      "metadata": {
        "colab": {
          "base_uri": "https://localhost:8080/",
          "height": 81
        },
        "id": "8tVeb5yZ51E_",
        "outputId": "ff02944a-5b8a-4899-e2cc-0952c0e711c4"
      },
      "execution_count": 10,
      "outputs": [
        {
          "output_type": "execute_result",
          "data": {
            "text/plain": [
              "   positive  neutral  negative\n",
              "0       922     1613       687"
            ],
            "text/html": [
              "\n",
              "  <div id=\"df-40469ad8-abc6-4bae-bbfa-769323cc2108\" class=\"colab-df-container\">\n",
              "    <div>\n",
              "<style scoped>\n",
              "    .dataframe tbody tr th:only-of-type {\n",
              "        vertical-align: middle;\n",
              "    }\n",
              "\n",
              "    .dataframe tbody tr th {\n",
              "        vertical-align: top;\n",
              "    }\n",
              "\n",
              "    .dataframe thead th {\n",
              "        text-align: right;\n",
              "    }\n",
              "</style>\n",
              "<table border=\"1\" class=\"dataframe\">\n",
              "  <thead>\n",
              "    <tr style=\"text-align: right;\">\n",
              "      <th></th>\n",
              "      <th>positive</th>\n",
              "      <th>neutral</th>\n",
              "      <th>negative</th>\n",
              "    </tr>\n",
              "  </thead>\n",
              "  <tbody>\n",
              "    <tr>\n",
              "      <th>0</th>\n",
              "      <td>922</td>\n",
              "      <td>1613</td>\n",
              "      <td>687</td>\n",
              "    </tr>\n",
              "  </tbody>\n",
              "</table>\n",
              "</div>\n",
              "    <div class=\"colab-df-buttons\">\n",
              "\n",
              "  <div class=\"colab-df-container\">\n",
              "    <button class=\"colab-df-convert\" onclick=\"convertToInteractive('df-40469ad8-abc6-4bae-bbfa-769323cc2108')\"\n",
              "            title=\"Convert this dataframe to an interactive table.\"\n",
              "            style=\"display:none;\">\n",
              "\n",
              "  <svg xmlns=\"http://www.w3.org/2000/svg\" height=\"24px\" viewBox=\"0 -960 960 960\">\n",
              "    <path d=\"M120-120v-720h720v720H120Zm60-500h600v-160H180v160Zm220 220h160v-160H400v160Zm0 220h160v-160H400v160ZM180-400h160v-160H180v160Zm440 0h160v-160H620v160ZM180-180h160v-160H180v160Zm440 0h160v-160H620v160Z\"/>\n",
              "  </svg>\n",
              "    </button>\n",
              "\n",
              "  <style>\n",
              "    .colab-df-container {\n",
              "      display:flex;\n",
              "      gap: 12px;\n",
              "    }\n",
              "\n",
              "    .colab-df-convert {\n",
              "      background-color: #E8F0FE;\n",
              "      border: none;\n",
              "      border-radius: 50%;\n",
              "      cursor: pointer;\n",
              "      display: none;\n",
              "      fill: #1967D2;\n",
              "      height: 32px;\n",
              "      padding: 0 0 0 0;\n",
              "      width: 32px;\n",
              "    }\n",
              "\n",
              "    .colab-df-convert:hover {\n",
              "      background-color: #E2EBFA;\n",
              "      box-shadow: 0px 1px 2px rgba(60, 64, 67, 0.3), 0px 1px 3px 1px rgba(60, 64, 67, 0.15);\n",
              "      fill: #174EA6;\n",
              "    }\n",
              "\n",
              "    .colab-df-buttons div {\n",
              "      margin-bottom: 4px;\n",
              "    }\n",
              "\n",
              "    [theme=dark] .colab-df-convert {\n",
              "      background-color: #3B4455;\n",
              "      fill: #D2E3FC;\n",
              "    }\n",
              "\n",
              "    [theme=dark] .colab-df-convert:hover {\n",
              "      background-color: #434B5C;\n",
              "      box-shadow: 0px 1px 3px 1px rgba(0, 0, 0, 0.15);\n",
              "      filter: drop-shadow(0px 1px 2px rgba(0, 0, 0, 0.3));\n",
              "      fill: #FFFFFF;\n",
              "    }\n",
              "  </style>\n",
              "\n",
              "    <script>\n",
              "      const buttonEl =\n",
              "        document.querySelector('#df-40469ad8-abc6-4bae-bbfa-769323cc2108 button.colab-df-convert');\n",
              "      buttonEl.style.display =\n",
              "        google.colab.kernel.accessAllowed ? 'block' : 'none';\n",
              "\n",
              "      async function convertToInteractive(key) {\n",
              "        const element = document.querySelector('#df-40469ad8-abc6-4bae-bbfa-769323cc2108');\n",
              "        const dataTable =\n",
              "          await google.colab.kernel.invokeFunction('convertToInteractive',\n",
              "                                                    [key], {});\n",
              "        if (!dataTable) return;\n",
              "\n",
              "        const docLinkHtml = 'Like what you see? Visit the ' +\n",
              "          '<a target=\"_blank\" href=https://colab.research.google.com/notebooks/data_table.ipynb>data table notebook</a>'\n",
              "          + ' to learn more about interactive tables.';\n",
              "        element.innerHTML = '';\n",
              "        dataTable['output_type'] = 'display_data';\n",
              "        await google.colab.output.renderOutput(dataTable, element);\n",
              "        const docLink = document.createElement('div');\n",
              "        docLink.innerHTML = docLinkHtml;\n",
              "        element.appendChild(docLink);\n",
              "      }\n",
              "    </script>\n",
              "  </div>\n",
              "\n",
              "\n",
              "    </div>\n",
              "  </div>\n"
            ],
            "application/vnd.google.colaboratory.intrinsic+json": {
              "type": "dataframe",
              "summary": "{\n  \"name\": \"pd\",\n  \"rows\": 1,\n  \"fields\": [\n    {\n      \"column\": \"positive\",\n      \"properties\": {\n        \"dtype\": \"number\",\n        \"std\": null,\n        \"min\": 922,\n        \"max\": 922,\n        \"num_unique_values\": 1,\n        \"samples\": [\n          922\n        ],\n        \"semantic_type\": \"\",\n        \"description\": \"\"\n      }\n    },\n    {\n      \"column\": \"neutral\",\n      \"properties\": {\n        \"dtype\": \"number\",\n        \"std\": null,\n        \"min\": 1613,\n        \"max\": 1613,\n        \"num_unique_values\": 1,\n        \"samples\": [\n          1613\n        ],\n        \"semantic_type\": \"\",\n        \"description\": \"\"\n      }\n    },\n    {\n      \"column\": \"negative\",\n      \"properties\": {\n        \"dtype\": \"number\",\n        \"std\": null,\n        \"min\": 687,\n        \"max\": 687,\n        \"num_unique_values\": 1,\n        \"samples\": [\n          687\n        ],\n        \"semantic_type\": \"\",\n        \"description\": \"\"\n      }\n    }\n  ]\n}"
            }
          },
          "metadata": {},
          "execution_count": 10
        }
      ]
    },
    {
      "cell_type": "code",
      "source": [
        "import requests\n",
        "import pandas as pd\n",
        "from datetime import datetime\n",
        "\n",
        "headers = {\n",
        "    \"x-rapidapi-host\": \"crypto-news51.p.rapidapi.com\",\n",
        "    \"x-rapidapi-key\": \"598093183cmsh3ed4e2b9878f46bp13ee47jsn0cccf8f31a55\"\n",
        "}\n",
        "\n",
        "url = \"https://crypto-news51.p.rapidapi.com/api/v1/sentiment\"\n",
        "\n",
        "def fetch_sentiment():\n",
        "    params = {\"interval\": \"24h\"}\n",
        "    resp = requests.get(url, headers=headers, params=params)\n",
        "    data = resp.json()\n",
        "\n",
        "    if \"counts\" in data and \"percentages\" in data:\n",
        "        return {\n",
        "            \"timestamp\": datetime.now().strftime(\"%Y-%m-%d %H:%M:%S\"),\n",
        "            \"interval\": data.get(\"interval\"),\n",
        "            \"total\": data.get(\"total\", 0),\n",
        "            \"positive_count\": data[\"counts\"][\"positive\"],\n",
        "            \"neutral_count\": data[\"counts\"][\"neutral\"],\n",
        "            \"negative_count\": data[\"counts\"][\"negative\"],\n",
        "            \"positive_pct\": data[\"percentages\"][\"positive\"],\n",
        "            \"neutral_pct\": data[\"percentages\"][\"neutral\"],\n",
        "            \"negative_pct\": data[\"percentages\"][\"negative\"],\n",
        "        }\n",
        "    return None\n",
        "\n",
        "def main():\n",
        "    sentiment = fetch_sentiment()\n",
        "    if sentiment:\n",
        "        print(sentiment)\n",
        "        df = pd.DataFrame([sentiment])\n",
        "        df.to_csv(\n",
        "            \"crypto_sentiment.csv\",\n",
        "            mode=\"a\",\n",
        "            header=not pd.io.common.file_exists(\"crypto_sentiment.csv\"),\n",
        "            index=False\n",
        "        )\n",
        "        print(\"✅ Saved to crypto_sentiment.csv\")\n",
        "\n",
        "if __name__ == \"__main__\":\n",
        "    main()\n"
      ],
      "metadata": {
        "id": "UNjAPUH_56Eq"
      },
      "execution_count": 12,
      "outputs": []
    },
    {
      "cell_type": "code",
      "source": [
        "import requests\n",
        "import pandas as pd\n",
        "from datetime import datetime\n",
        "\n",
        "# 🔑 API headers\n",
        "headers = {\n",
        "    \"x-rapidapi-host\": \"crypto-news51.p.rapidapi.com\",\n",
        "    \"x-rapidapi-key\": \"598093183cmsh3ed4e2b9878f46bp13ee47jsn0cccf8f31a55\"\n",
        "}\n",
        "\n",
        "# Endpoints\n",
        "SENTIMENT_URL = \"https://crypto-news51.p.rapidapi.com/api/v1/sentiment\"\n",
        "PRICES_URL = \"https://crypto-news51.p.rapidapi.com/api/v1/convert-rates/crypto/from\"\n",
        "\n",
        "def fetch_sentiment():\n",
        "    \"\"\"Fetch crypto sentiment stats for last 24h\"\"\"\n",
        "    query = {\"interval\": \"24h\"}\n",
        "    resp = requests.get(SENTIMENT_URL, headers=headers, params=query)\n",
        "    data = resp.json()\n",
        "\n",
        "    if \"sentiments\" in data:\n",
        "        return {\n",
        "            \"positive\": data[\"sentiments\"].get(\"positive\", 0),\n",
        "            \"neutral\": data[\"sentiments\"].get(\"neutral\", 0),\n",
        "            \"negative\": data[\"sentiments\"].get(\"negative\", 0),\n",
        "            \"total_articles\": data.get(\"total_articles\", 0)\n",
        "        }\n",
        "    return {}\n",
        "\n",
        "def fetch_prices(symbols=[\"BTC\", \"ETH\"], base=\"USD\"):\n",
        "    \"\"\"Fetch crypto prices for given symbols\"\"\"\n",
        "    query = {\"currency\": base, \"detailed\": \"true\"}\n",
        "    resp = requests.get(PRICES_URL, headers=headers, params=query)\n",
        "    data = resp.json()\n",
        "\n",
        "    prices = {}\n",
        "    if \"currencies\" in data:\n",
        "        for coin in data[\"currencies\"]:\n",
        "            if coin[\"symbol\"] in symbols:\n",
        "                prices[f\"{coin['symbol']}_price\"] = coin.get(\"price\", None)\n",
        "    return prices\n",
        "\n",
        "def main():\n",
        "    timestamp = datetime.now().strftime(\"%Y-%m-%d %H:%M:%S\")\n",
        "\n",
        "    sentiment = fetch_sentiment()\n",
        "    prices = fetch_prices()\n",
        "\n",
        "    if sentiment and prices:\n",
        "        record = {\"timestamp\": timestamp, **sentiment, **prices}\n",
        "        print(record)\n",
        "\n",
        "        # Save to CSV\n",
        "        df = pd.DataFrame([record])\n",
        "        df.to_csv(\n",
        "            \"crypto_sentiment_prices.csv\",\n",
        "            mode=\"a\",\n",
        "            header=not pd.io.common.file_exists(\"crypto_sentiment_prices.csv\"),\n",
        "            index=False\n",
        "        )\n",
        "        print(\"✅ Saved to crypto_sentiment_prices.csv\")\n",
        "\n",
        "if __name__ == \"__main__\":\n",
        "    main()\n"
      ],
      "metadata": {
        "id": "FDhm1A_Y6-bN"
      },
      "execution_count": 13,
      "outputs": []
    },
    {
      "cell_type": "code",
      "source": [
        "import requests\n",
        "import pandas as pd\n",
        "from datetime import datetime\n",
        "\n",
        "headers = {\n",
        "    \"x-rapidapi-host\": \"crypto-news51.p.rapidapi.com\",\n",
        "    \"x-rapidapi-key\": \"598093183cmsh3ed4e2b9878f46bp13ee47jsn0cccf8f31a55\"\n",
        "}\n",
        "\n",
        "url = \"https://crypto-news51.p.rapidapi.com/api/v1/crypto/sentiment?interval=30d\"  # ✅ confirm this endpoint\n",
        "\n",
        "def fetch_sentiment():\n",
        "    resp = requests.get(url, headers=headers, params={\"interval\": \"30d\"})\n",
        "    print(\"🔎 Raw Response:\", resp.text)  # <-- debug print\n",
        "\n",
        "    try:\n",
        "        data = resp.json()\n",
        "    except Exception as e:\n",
        "        print(\"❌ JSON decode failed:\", e)\n",
        "        return None\n",
        "\n",
        "    if \"counts\" in data and \"percentages\" in data:\n",
        "        return {\n",
        "            \"timestamp\": datetime.now().strftime(\"%Y-%m-%d %H:%M:%S\"),\n",
        "            \"interval\": data.get(\"interval\"),\n",
        "            \"total\": data.get(\"total\", 0),\n",
        "            \"positive_count\": data[\"counts\"][\"positive\"],\n",
        "            \"neutral_count\": data[\"counts\"][\"neutral\"],\n",
        "            \"negative_count\": data[\"counts\"][\"negative\"],\n",
        "            \"positive_pct\": data[\"percentages\"][\"positive\"],\n",
        "            \"neutral_pct\": data[\"percentages\"][\"neutral\"],\n",
        "            \"negative_pct\": data[\"percentages\"][\"negative\"],\n",
        "        }\n",
        "    else:\n",
        "        print(\"⚠️ Unexpected JSON keys:\", data.keys())\n",
        "        return None\n",
        "\n",
        "def main():\n",
        "    sentiment = fetch_sentiment()\n",
        "    if sentiment:\n",
        "        print(\"✅ Parsed Sentiment:\", sentiment)\n",
        "        df = pd.DataFrame([sentiment])\n",
        "        df.to_csv(\n",
        "            \"crypto_sentiment.csv\",\n",
        "            mode=\"a\",\n",
        "            header=not pd.io.common.file_exists(\"crypto_sentiment.csv\"),\n",
        "            index=False\n",
        "        )\n",
        "        print(\"📁 Saved to crypto_sentiment.csv\")\n",
        "\n",
        "if __name__ == \"__main__\":\n",
        "    main()\n"
      ],
      "metadata": {
        "colab": {
          "base_uri": "https://localhost:8080/"
        },
        "id": "Lnt-EGZW7LGa",
        "outputId": "c60f2550-0ceb-409f-b5f0-ef517cc22b9b"
      },
      "execution_count": 23,
      "outputs": [
        {
          "output_type": "stream",
          "name": "stdout",
          "text": [
            "🔎 Raw Response: {\"interval\":\"30d\",\"total\":82574,\"counts\":{\"positive\":25794,\"neutral\":39597,\"negative\":17183},\"percentages\":{\"positive\":31.24,\"neutral\":47.95,\"negative\":20.81}}\n",
            "✅ Parsed Sentiment: {'timestamp': '2025-08-22 04:11:36', 'interval': '30d', 'total': 82574, 'positive_count': 25794, 'neutral_count': 39597, 'negative_count': 17183, 'positive_pct': 31.24, 'neutral_pct': 47.95, 'negative_pct': 20.81}\n",
            "📁 Saved to crypto_sentiment.csv\n"
          ]
        }
      ]
    }
  ]
}