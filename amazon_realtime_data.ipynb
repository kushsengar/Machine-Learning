{
  "nbformat": 4,
  "nbformat_minor": 0,
  "metadata": {
    "colab": {
      "provenance": [],
      "authorship_tag": "ABX9TyOjwlAbSi6aPqiFZqQfBNlx",
      "include_colab_link": true
    },
    "kernelspec": {
      "name": "python3",
      "display_name": "Python 3"
    },
    "language_info": {
      "name": "python"
    }
  },
  "cells": [
    {
      "cell_type": "markdown",
      "metadata": {
        "id": "view-in-github",
        "colab_type": "text"
      },
      "source": [
        "<a href=\"https://colab.research.google.com/github/kushsengar/Machine-Learning/blob/main/amazon_realtime_data.ipynb\" target=\"_parent\"><img src=\"https://colab.research.google.com/assets/colab-badge.svg\" alt=\"Open In Colab\"/></a>"
      ]
    },
    {
      "cell_type": "code",
      "execution_count": 2,
      "metadata": {
        "id": "aEbCJW15X-Qu"
      },
      "outputs": [],
      "source": [
        "import pandas as pd"
      ]
    },
    {
      "cell_type": "code",
      "source": [
        "import requests"
      ],
      "metadata": {
        "id": "TvSliUl7YDcW"
      },
      "execution_count": 3,
      "outputs": []
    },
    {
      "cell_type": "code",
      "source": [
        "url = \"https://real-time-amazon-data.p.rapidapi.com/product-details?asin=B07ZPKBL9V&country=US\"\n",
        "headers = {\n",
        "    \"x-rapidapi-host\" : \"real-time-amazon-data.p.rapidapi.com\"\n",
        "}\n",
        "response = requests.get(url , headers=headers )\n"
      ],
      "metadata": {
        "id": "7wtd9Yh8YVsT"
      },
      "execution_count": 4,
      "outputs": []
    },
    {
      "cell_type": "code",
      "source": [
        "response"
      ],
      "metadata": {
        "colab": {
          "base_uri": "https://localhost:8080/"
        },
        "id": "2cDV3SqvYh8t",
        "outputId": "21cc6e73-2fbe-4355-91b0-5e13d5847ab1"
      },
      "execution_count": 5,
      "outputs": [
        {
          "output_type": "execute_result",
          "data": {
            "text/plain": [
              "<Response [401]>"
            ]
          },
          "metadata": {},
          "execution_count": 5
        }
      ]
    },
    {
      "cell_type": "code",
      "source": [
        "response =  response.json()"
      ],
      "metadata": {
        "id": "PHvf3WlvYk12"
      },
      "execution_count": 6,
      "outputs": []
    },
    {
      "cell_type": "code",
      "metadata": {
        "colab": {
          "base_uri": "https://localhost:8080/"
        },
        "id": "291102e8",
        "outputId": "70e2423e-c71a-44c8-ea11-9e241a79a0c2"
      },
      "source": [
        "headers = {\n",
        "    \"x-rapidapi-host\": \"real-time-amazon-data.p.rapidapi.com\",\n",
        "    \"x-rapidapi-key\": \"598093183cmsh3ed4e2b9878f46bp13ee47jsn0cccf8f31a55\" # Replace with your actual API key\n",
        "}\n",
        "\n",
        "url = \"https://real-time-amazon-data.p.rapidapi.com/product-details?asin=B07ZPKBL9V&country=US\"\n",
        "\n",
        "response = requests.get(url, headers=headers)\n",
        "\n",
        "# Check the status code\n",
        "print(response.status_code)\n",
        "\n",
        "# Print the JSON response\n",
        "# Access 'product_details' from within the 'data' key\n",
        "print(response.json()['data']['product_details'])"
      ],
      "execution_count": 17,
      "outputs": [
        {
          "output_type": "stream",
          "name": "stdout",
          "text": [
            "200\n",
            "{'Brand': 'Apple', 'Operating System': 'iOS 16', 'Ram Memory Installed Size': '4 GB', 'CPU Model': 'A13', 'CPU Speed': '690 MHz', 'Memory Storage Capacity': '64 GB', 'Screen Size': '6.1 Inches', 'Resolution': '1792x828', 'Refresh Rate': '60 Hz', 'Model Name': 'iPhone 11'}\n"
          ]
        }
      ]
    },
    {
      "cell_type": "code",
      "metadata": {
        "colab": {
          "base_uri": "https://localhost:8080/"
        },
        "id": "f3460027",
        "outputId": "f7c02d04-f229-45dc-b0b6-e8dbaeb24454"
      },
      "source": [
        "# Assuming 'response' holds the API response\n",
        "try:\n",
        "    json_response = response.json()\n",
        "    print(\"Top-level keys in the JSON response:\")\n",
        "    for key in json_response.keys():\n",
        "        print(key)\n",
        "except Exception as e:\n",
        "    print(f\"Could not parse JSON response or an error occurred: {e}\")"
      ],
      "execution_count": 13,
      "outputs": [
        {
          "output_type": "stream",
          "name": "stdout",
          "text": [
            "Top-level keys in the JSON response:\n",
            "status\n",
            "request_id\n",
            "parameters\n",
            "data\n"
          ]
        }
      ]
    }
  ]
}